{
 "cells": [
  {
   "cell_type": "code",
   "execution_count": 1,
   "id": "77961344-7429-49ea-84be-dc926ce997da",
   "metadata": {
    "scrolled": true
   },
   "outputs": [
    {
     "name": "stderr",
     "output_type": "stream",
     "text": [
      "/Applications/anaconda3/envs/financial_advisor_env/lib/python3.11/site-packages/tqdm/auto.py:21: TqdmWarning: IProgress not found. Please update jupyter and ipywidgets. See https://ipywidgets.readthedocs.io/en/stable/user_install.html\n",
      "  from .autonotebook import tqdm as notebook_tqdm\n"
     ]
    }
   ],
   "source": [
    "import pandas as pd\n",
    "import numpy as np\n",
    "import re\n",
    "import nltk\n",
    "from nltk.tokenize import word_tokenize\n",
    "from nltk.corpus import stopwords\n",
    "from nltk.stem import WordNetLemmatizer\n",
    "from vaderSentiment.vaderSentiment import SentimentIntensityAnalyzer\n",
    "from transformers import AutoTokenizer, AutoModelForSequenceClassification\n",
    "import torch\n",
    "from tqdm import tqdm\n",
    "import warnings\n",
    "warnings.filterwarnings('ignore')"
   ]
  },
  {
   "cell_type": "code",
   "execution_count": 2,
   "id": "8db49ef4-f797-4694-bdc2-dc841ed0bfc2",
   "metadata": {},
   "outputs": [
    {
     "name": "stderr",
     "output_type": "stream",
     "text": [
      "[nltk_data] Downloading package punkt to\n",
      "[nltk_data]     /Users/anithasmac/nltk_data...\n",
      "[nltk_data]   Package punkt is already up-to-date!\n",
      "[nltk_data] Downloading package stopwords to\n",
      "[nltk_data]     /Users/anithasmac/nltk_data...\n",
      "[nltk_data]   Package stopwords is already up-to-date!\n",
      "[nltk_data] Downloading package wordnet to\n",
      "[nltk_data]     /Users/anithasmac/nltk_data...\n",
      "[nltk_data]   Package wordnet is already up-to-date!\n"
     ]
    },
    {
     "data": {
      "text/plain": [
       "True"
      ]
     },
     "execution_count": 2,
     "metadata": {},
     "output_type": "execute_result"
    }
   ],
   "source": [
    "# Download required NLTK data\n",
    "nltk.download('punkt')\n",
    "nltk.download('stopwords')\n",
    "nltk.download('wordnet')"
   ]
  },
  {
   "cell_type": "code",
   "execution_count": 3,
   "id": "bb972e30-37c0-4d7f-a607-b239649763c6",
   "metadata": {},
   "outputs": [],
   "source": [
    "# Initialize stopwords and lemmatizer once\n",
    "stop_words = set(stopwords.words('english'))\n",
    "lemmatizer = WordNetLemmatizer()"
   ]
  },
  {
   "cell_type": "code",
   "execution_count": 4,
   "id": "81e8d4a4-768e-4769-b889-15d784a7009e",
   "metadata": {},
   "outputs": [],
   "source": [
    "def clean_text(text):\n",
    "    \"\"\"\n",
    "    Clean text by removing URLs, emails, phone numbers, special characters, and digits.\n",
    "    \"\"\"\n",
    "    if pd.isna(text) or not isinstance(text, str):\n",
    "        return \"\"\n",
    "    text = re.sub(r'http\\S+|www\\S+|\\S+@\\S+|\\d{3}[-.\\s]??\\d{3}[-.\\s]??\\d{4}', '', text)\n",
    "    text = re.sub(r'[^a-zA-Z\\s]', '', text).lower().strip()\n",
    "    return text"
   ]
  },
  {
   "cell_type": "code",
   "execution_count": 5,
   "id": "b0822995-c1d1-40af-9f88-eb6b92adfe44",
   "metadata": {},
   "outputs": [],
   "source": [
    "def preprocess_text(text):\n",
    "    \"\"\"\n",
    "    Tokenize, remove stopwords, and lemmatize the text.\n",
    "    \"\"\"\n",
    "    text = clean_text(text)\n",
    "    tokens = word_tokenize(text)\n",
    "    return ' '.join(lemmatizer.lemmatize(token) for token in tokens if token not in stop_words)"
   ]
  },
  {
   "cell_type": "code",
   "execution_count": 6,
   "id": "c06d166f-4705-4eb6-bee6-68dec8bee594",
   "metadata": {},
   "outputs": [],
   "source": [
    "def vader_sentiment_analysis(texts):\n",
    "    \"\"\"\n",
    "    Apply VADER sentiment analysis to texts.\n",
    "    \"\"\"\n",
    "    analyzer = SentimentIntensityAnalyzer()\n",
    "    return pd.DataFrame([analyzer.polarity_scores(str(text)) for text in texts])"
   ]
  },
  {
   "cell_type": "code",
   "execution_count": 7,
   "id": "7a694f30-6f69-4c57-a65d-a6ce166c9d91",
   "metadata": {},
   "outputs": [],
   "source": [
    "def bert_sentiment_analysis(texts, batch_size=32):\n",
    "    \"\"\"\n",
    "    Apply BERT sentiment analysis to texts.\n",
    "    \"\"\"\n",
    "    tokenizer = AutoTokenizer.from_pretrained(\"nlptown/bert-base-multilingual-uncased-sentiment\")\n",
    "    model = AutoModelForSequenceClassification.from_pretrained(\"nlptown/bert-base-multilingual-uncased-sentiment\").to(\"cuda\" if torch.cuda.is_available() else \"cpu\")\n",
    "    \n",
    "    cleaned_texts = [clean_text(text) for text in texts if clean_text(text)]\n",
    "    results = []\n",
    "    for i in tqdm(range(0, len(cleaned_texts), batch_size), desc=\"BERT Analysis\"):\n",
    "        inputs = tokenizer(cleaned_texts[i:i + batch_size], padding=True, truncation=True, return_tensors=\"pt\", max_length=512)\n",
    "        inputs = {k: v.to(model.device) for k, v in inputs.items()}\n",
    "        with torch.no_grad():\n",
    "            outputs = model(**inputs)\n",
    "        results.extend(torch.softmax(outputs.logits, dim=1).cpu().numpy())\n",
    "    \n",
    "    return pd.DataFrame(results, columns=['score_1', 'score_2', 'score_3', 'score_4', 'score_5'])"
   ]
  },
  {
   "cell_type": "code",
   "execution_count": 8,
   "id": "06135a81-c0a6-49b0-8192-072b196d1c7f",
   "metadata": {},
   "outputs": [],
   "source": [
    "def main(df):\n",
    "    \"\"\"\n",
    "    Main function to preprocess text and perform sentiment analysis.\n",
    "    \"\"\"\n",
    "    print(\"0. Initial data cleaning...\")\n",
    "    df = df.dropna(subset=['review_content'])\n",
    "    \n",
    "    print(\"\\n1. Preprocessing text...\")\n",
    "    df['normalized_review'] = df['review_content'].apply(preprocess_text)\n",
    "    \n",
    "    print(\"\\n2. Performing VADER sentiment analysis...\")\n",
    "    vader_results = vader_sentiment_analysis(df['review_content'])\n",
    "    \n",
    "    print(\"\\n3. Performing BERT sentiment analysis...\")\n",
    "    bert_results = bert_sentiment_analysis(df['review_content'])\n",
    "    \n",
    "    return vader_results, bert_results"
   ]
  },
  {
   "cell_type": "code",
   "execution_count": 9,
   "id": "cb345095-80a7-4ad6-8411-90808bfee88e",
   "metadata": {},
   "outputs": [],
   "source": [
    "# Load DataFrame\n",
    "df = pd.read_csv('/Users/anithasmac/Projects/CustomerJourneyMapping/Featured_Amazon_Data.csv')"
   ]
  },
  {
   "cell_type": "code",
   "execution_count": 10,
   "id": "bc6ce3d7-6e68-4bf9-8049-39f73b86bd58",
   "metadata": {},
   "outputs": [
    {
     "name": "stdout",
     "output_type": "stream",
     "text": [
      "0. Initial data cleaning...\n",
      "\n",
      "1. Preprocessing text...\n",
      "\n",
      "2. Performing VADER sentiment analysis...\n",
      "\n",
      "3. Performing BERT sentiment analysis...\n"
     ]
    },
    {
     "name": "stderr",
     "output_type": "stream",
     "text": [
      "BERT Analysis: 100%|████████████████████████████| 46/46 [16:45<00:00, 21.85s/it]\n"
     ]
    }
   ],
   "source": [
    "# Run the analysis\n",
    "vader_results, bert_results = main(df)"
   ]
  },
  {
   "cell_type": "code",
   "execution_count": 11,
   "id": "1e3e4638-2dfc-4863-a283-4d958a3833b5",
   "metadata": {},
   "outputs": [
    {
     "data": {
      "text/html": [
       "<div>\n",
       "<style scoped>\n",
       "    .dataframe tbody tr th:only-of-type {\n",
       "        vertical-align: middle;\n",
       "    }\n",
       "\n",
       "    .dataframe tbody tr th {\n",
       "        vertical-align: top;\n",
       "    }\n",
       "\n",
       "    .dataframe thead th {\n",
       "        text-align: right;\n",
       "    }\n",
       "</style>\n",
       "<table border=\"1\" class=\"dataframe\">\n",
       "  <thead>\n",
       "    <tr style=\"text-align: right;\">\n",
       "      <th></th>\n",
       "      <th>neg</th>\n",
       "      <th>neu</th>\n",
       "      <th>pos</th>\n",
       "      <th>compound</th>\n",
       "    </tr>\n",
       "  </thead>\n",
       "  <tbody>\n",
       "    <tr>\n",
       "      <th>0</th>\n",
       "      <td>0.031</td>\n",
       "      <td>0.754</td>\n",
       "      <td>0.215</td>\n",
       "      <td>0.8974</td>\n",
       "    </tr>\n",
       "    <tr>\n",
       "      <th>1</th>\n",
       "      <td>0.010</td>\n",
       "      <td>0.830</td>\n",
       "      <td>0.160</td>\n",
       "      <td>0.9853</td>\n",
       "    </tr>\n",
       "    <tr>\n",
       "      <th>2</th>\n",
       "      <td>0.000</td>\n",
       "      <td>0.651</td>\n",
       "      <td>0.349</td>\n",
       "      <td>0.7089</td>\n",
       "    </tr>\n",
       "    <tr>\n",
       "      <th>3</th>\n",
       "      <td>0.027</td>\n",
       "      <td>0.807</td>\n",
       "      <td>0.165</td>\n",
       "      <td>0.8316</td>\n",
       "    </tr>\n",
       "    <tr>\n",
       "      <th>4</th>\n",
       "      <td>0.084</td>\n",
       "      <td>0.725</td>\n",
       "      <td>0.191</td>\n",
       "      <td>0.9955</td>\n",
       "    </tr>\n",
       "    <tr>\n",
       "      <th>...</th>\n",
       "      <td>...</td>\n",
       "      <td>...</td>\n",
       "      <td>...</td>\n",
       "      <td>...</td>\n",
       "    </tr>\n",
       "    <tr>\n",
       "      <th>1460</th>\n",
       "      <td>0.044</td>\n",
       "      <td>0.742</td>\n",
       "      <td>0.214</td>\n",
       "      <td>0.9390</td>\n",
       "    </tr>\n",
       "    <tr>\n",
       "      <th>1461</th>\n",
       "      <td>0.090</td>\n",
       "      <td>0.736</td>\n",
       "      <td>0.174</td>\n",
       "      <td>0.9473</td>\n",
       "    </tr>\n",
       "    <tr>\n",
       "      <th>1462</th>\n",
       "      <td>0.081</td>\n",
       "      <td>0.727</td>\n",
       "      <td>0.192</td>\n",
       "      <td>0.9682</td>\n",
       "    </tr>\n",
       "    <tr>\n",
       "      <th>1463</th>\n",
       "      <td>0.060</td>\n",
       "      <td>0.884</td>\n",
       "      <td>0.056</td>\n",
       "      <td>-0.2960</td>\n",
       "    </tr>\n",
       "    <tr>\n",
       "      <th>1464</th>\n",
       "      <td>0.007</td>\n",
       "      <td>0.851</td>\n",
       "      <td>0.142</td>\n",
       "      <td>0.9912</td>\n",
       "    </tr>\n",
       "  </tbody>\n",
       "</table>\n",
       "<p>1465 rows × 4 columns</p>\n",
       "</div>"
      ],
      "text/plain": [
       "        neg    neu    pos  compound\n",
       "0     0.031  0.754  0.215    0.8974\n",
       "1     0.010  0.830  0.160    0.9853\n",
       "2     0.000  0.651  0.349    0.7089\n",
       "3     0.027  0.807  0.165    0.8316\n",
       "4     0.084  0.725  0.191    0.9955\n",
       "...     ...    ...    ...       ...\n",
       "1460  0.044  0.742  0.214    0.9390\n",
       "1461  0.090  0.736  0.174    0.9473\n",
       "1462  0.081  0.727  0.192    0.9682\n",
       "1463  0.060  0.884  0.056   -0.2960\n",
       "1464  0.007  0.851  0.142    0.9912\n",
       "\n",
       "[1465 rows x 4 columns]"
      ]
     },
     "execution_count": 11,
     "metadata": {},
     "output_type": "execute_result"
    }
   ],
   "source": [
    "vader_results"
   ]
  },
  {
   "cell_type": "code",
   "execution_count": 12,
   "id": "de58a3d3-5fd2-41af-b17b-c5f32b40f4c0",
   "metadata": {},
   "outputs": [
    {
     "data": {
      "text/html": [
       "<div>\n",
       "<style scoped>\n",
       "    .dataframe tbody tr th:only-of-type {\n",
       "        vertical-align: middle;\n",
       "    }\n",
       "\n",
       "    .dataframe tbody tr th {\n",
       "        vertical-align: top;\n",
       "    }\n",
       "\n",
       "    .dataframe thead th {\n",
       "        text-align: right;\n",
       "    }\n",
       "</style>\n",
       "<table border=\"1\" class=\"dataframe\">\n",
       "  <thead>\n",
       "    <tr style=\"text-align: right;\">\n",
       "      <th></th>\n",
       "      <th>score_1</th>\n",
       "      <th>score_2</th>\n",
       "      <th>score_3</th>\n",
       "      <th>score_4</th>\n",
       "      <th>score_5</th>\n",
       "    </tr>\n",
       "  </thead>\n",
       "  <tbody>\n",
       "    <tr>\n",
       "      <th>0</th>\n",
       "      <td>0.009876</td>\n",
       "      <td>0.031780</td>\n",
       "      <td>0.178236</td>\n",
       "      <td>0.496324</td>\n",
       "      <td>0.283783</td>\n",
       "    </tr>\n",
       "    <tr>\n",
       "      <th>1</th>\n",
       "      <td>0.054104</td>\n",
       "      <td>0.167403</td>\n",
       "      <td>0.299809</td>\n",
       "      <td>0.345163</td>\n",
       "      <td>0.133522</td>\n",
       "    </tr>\n",
       "    <tr>\n",
       "      <th>2</th>\n",
       "      <td>0.006395</td>\n",
       "      <td>0.039326</td>\n",
       "      <td>0.354691</td>\n",
       "      <td>0.526653</td>\n",
       "      <td>0.072936</td>\n",
       "    </tr>\n",
       "    <tr>\n",
       "      <th>3</th>\n",
       "      <td>0.050870</td>\n",
       "      <td>0.163608</td>\n",
       "      <td>0.407641</td>\n",
       "      <td>0.312520</td>\n",
       "      <td>0.065362</td>\n",
       "    </tr>\n",
       "    <tr>\n",
       "      <th>4</th>\n",
       "      <td>0.084407</td>\n",
       "      <td>0.286777</td>\n",
       "      <td>0.384614</td>\n",
       "      <td>0.201704</td>\n",
       "      <td>0.042498</td>\n",
       "    </tr>\n",
       "    <tr>\n",
       "      <th>...</th>\n",
       "      <td>...</td>\n",
       "      <td>...</td>\n",
       "      <td>...</td>\n",
       "      <td>...</td>\n",
       "      <td>...</td>\n",
       "    </tr>\n",
       "    <tr>\n",
       "      <th>1460</th>\n",
       "      <td>0.029028</td>\n",
       "      <td>0.214520</td>\n",
       "      <td>0.611890</td>\n",
       "      <td>0.133024</td>\n",
       "      <td>0.011538</td>\n",
       "    </tr>\n",
       "    <tr>\n",
       "      <th>1461</th>\n",
       "      <td>0.057944</td>\n",
       "      <td>0.260241</td>\n",
       "      <td>0.534737</td>\n",
       "      <td>0.133147</td>\n",
       "      <td>0.013931</td>\n",
       "    </tr>\n",
       "    <tr>\n",
       "      <th>1462</th>\n",
       "      <td>0.118826</td>\n",
       "      <td>0.333181</td>\n",
       "      <td>0.372364</td>\n",
       "      <td>0.146828</td>\n",
       "      <td>0.028802</td>\n",
       "    </tr>\n",
       "    <tr>\n",
       "      <th>1463</th>\n",
       "      <td>0.021912</td>\n",
       "      <td>0.143006</td>\n",
       "      <td>0.553718</td>\n",
       "      <td>0.254252</td>\n",
       "      <td>0.027111</td>\n",
       "    </tr>\n",
       "    <tr>\n",
       "      <th>1464</th>\n",
       "      <td>0.015404</td>\n",
       "      <td>0.092630</td>\n",
       "      <td>0.439528</td>\n",
       "      <td>0.409952</td>\n",
       "      <td>0.042485</td>\n",
       "    </tr>\n",
       "  </tbody>\n",
       "</table>\n",
       "<p>1465 rows × 5 columns</p>\n",
       "</div>"
      ],
      "text/plain": [
       "       score_1   score_2   score_3   score_4   score_5\n",
       "0     0.009876  0.031780  0.178236  0.496324  0.283783\n",
       "1     0.054104  0.167403  0.299809  0.345163  0.133522\n",
       "2     0.006395  0.039326  0.354691  0.526653  0.072936\n",
       "3     0.050870  0.163608  0.407641  0.312520  0.065362\n",
       "4     0.084407  0.286777  0.384614  0.201704  0.042498\n",
       "...        ...       ...       ...       ...       ...\n",
       "1460  0.029028  0.214520  0.611890  0.133024  0.011538\n",
       "1461  0.057944  0.260241  0.534737  0.133147  0.013931\n",
       "1462  0.118826  0.333181  0.372364  0.146828  0.028802\n",
       "1463  0.021912  0.143006  0.553718  0.254252  0.027111\n",
       "1464  0.015404  0.092630  0.439528  0.409952  0.042485\n",
       "\n",
       "[1465 rows x 5 columns]"
      ]
     },
     "execution_count": 12,
     "metadata": {},
     "output_type": "execute_result"
    }
   ],
   "source": [
    "bert_results"
   ]
  },
  {
   "cell_type": "code",
   "execution_count": null,
   "id": "38a3049e-c530-4d91-a558-be5bfe3cea4f",
   "metadata": {},
   "outputs": [],
   "source": []
  }
 ],
 "metadata": {
  "kernelspec": {
   "display_name": "Python 3 (ipykernel)",
   "language": "python",
   "name": "python3"
  },
  "language_info": {
   "codemirror_mode": {
    "name": "ipython",
    "version": 3
   },
   "file_extension": ".py",
   "mimetype": "text/x-python",
   "name": "python",
   "nbconvert_exporter": "python",
   "pygments_lexer": "ipython3",
   "version": "3.11.10"
  }
 },
 "nbformat": 4,
 "nbformat_minor": 5
}
